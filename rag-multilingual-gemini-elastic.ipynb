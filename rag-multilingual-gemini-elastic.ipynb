{
 "cells": [
  {
   "cell_type": "markdown",
   "id": "faa09879-9128-4864-8bb5-945ef9b8e84c",
   "metadata": {},
   "source": [
    "# Multilingual RAG: Using Gemini for question answering on private data"
   ]
  },
  {
   "cell_type": "markdown",
   "id": "d047438b-6f18-47ed-aac9-12c741cefd06",
   "metadata": {},
   "source": [
    "In this notebook, our aim is to develop a RAG system utilizing [Google's Gemini](https://gemini.google.com/app) model. We'll generate vectors with [E5](https://www.elastic.co/guide/en/machine-learning/current/ml-nlp-e5.html) model and store them in Elasticsearch. Additionally, we'll explore semantic retrieval techniques and present the top search results as a context window to the Gemini model."
   ]
  },
  {
   "cell_type": "markdown",
   "id": "1bd3acec-d490-4139-bab1-b874e1e7db8d",
   "metadata": {},
   "source": [
    "## Setup"
   ]
  },
  {
   "cell_type": "markdown",
   "id": "ef406b8a-03fb-49c5-baed-18e03bcd36d9",
   "metadata": {},
   "source": [
    "**Elastic Credentials** - Create an [Elastic Cloud deployment](https://www.elastic.co/search-labs/tutorials/install-elasticsearch/elastic-cloud) to get all Elastic credentials (`ELASTIC_CLOUD_ID`,` ELASTIC_API_KEY`).\n",
    "\n",
    "**Google Credentials** - To use the Gemini API, you need to [create an API key in Google AI Studio](https://ai.google.dev/tutorials/setup) (`GOOGLE_API_KEY`)."
   ]
  },
  {
   "cell_type": "markdown",
   "id": "ac91d7a3-1198-4b11-a9c5-50028abc861b",
   "metadata": {},
   "source": [
    "## Install packages"
   ]
  },
  {
   "cell_type": "code",
   "execution_count": null,
   "id": "fda41538-444c-48d7-80a0-b34b2e158b82",
   "metadata": {},
   "outputs": [],
   "source": [
    "!pip install -q -U elasticsearch langchain langchain-elasticsearch langchain_community"
   ]
  },
  {
   "cell_type": "markdown",
   "id": "15c2e924-e5a2-439b-8e98-f13a162db7fe",
   "metadata": {},
   "source": [
    "## Import packages"
   ]
  },
  {
   "cell_type": "code",
   "execution_count": null,
   "id": "7219411b-fae6-4c2a-b170-796bc30ed073",
   "metadata": {},
   "outputs": [],
   "source": [
    "import json\n",
    "import os\n",
    "from getpass import getpass\n",
    "from urllib.request import urlopen\n",
    "\n",
    "from elasticsearch import Elasticsearch, helpers\n",
    "from langchain.text_splitter import RecursiveCharacterTextSplitter\n",
    "from langchain.vectorstores import ElasticsearchStore\n",
    "from langchain import HuggingFacePipeline\n",
    "from langchain.chains import RetrievalQA\n",
    "from langchain.prompts import ChatPromptTemplate\n",
    "from langchain.schema.output_parser import StrOutputParser\n",
    "from langchain.schema.runnable import RunnablePassthrough\n",
    "from huggingface_hub import login\n",
    "from transformers import AutoTokenizer, AutoModelForCausalLM\n",
    "from transformers import AutoTokenizer, pipeline\n",
    "from langchain_google_genai import ChatGoogleGenerativeAI"
   ]
  },
  {
   "cell_type": "markdown",
   "id": "182a413f-e7fd-4361-8096-90736d3df33e",
   "metadata": {},
   "source": [
    "## Get Credentials"
   ]
  },
  {
   "cell_type": "code",
   "execution_count": null,
   "id": "b184b3a5-0cc8-43f9-b15d-f5ccf48f574b",
   "metadata": {},
   "outputs": [],
   "source": [
    "os.environ[\"GOOGLE_API_KEY\"] = getpass(\"Google API Key :\")\n",
    "ELASTIC_API_KEY = getpass(\"Elastic API Key :\")\n",
    "ELASTIC_CLOUD_ID = getpass(\"Elastic Cloud ID :\")\n",
    "ELASTIC_INDEX_NAME = \"multi-lang-rag\"\n",
    "ELASTIC_DEPLOYED_MODEL_ID = \".multilingual-e5-small_linux-x86_64\""
   ]
  },
  {
   "cell_type": "markdown",
   "id": "a2efbd81-70b9-409c-ab5f-796d538b42a1",
   "metadata": {},
   "source": [
    "## Add documents"
   ]
  },
  {
   "cell_type": "markdown",
   "id": "161dfb9d-f11f-4de5-8489-6464ade0cdb2",
   "metadata": {},
   "source": [
    "### Let's download the sample dataset and deserialize the document."
   ]
  },
  {
   "cell_type": "code",
   "execution_count": null,
   "id": "49427546-7b37-48f4-a6fe-395736ea2d38",
   "metadata": {},
   "outputs": [],
   "source": [
    "url = \"https://raw.githubusercontent.com/elastic/elasticsearch-labs/main/datasets/workplace-documents.json\"\n",
    "\n",
    "response = urlopen(url)\n",
    "\n",
    "workplace_docs = json.loads(response.read())"
   ]
  },
  {
   "cell_type": "markdown",
   "id": "f3bf0104-8b31-4b39-ad21-b372fd1fa0db",
   "metadata": {},
   "source": [
    "### Split Documents into Passages"
   ]
  },
  {
   "cell_type": "code",
   "execution_count": null,
   "id": "79e55ed1-418e-48ed-b3e3-d28e10744eb5",
   "metadata": {},
   "outputs": [],
   "source": [
    "metadata = []\n",
    "content = []\n",
    "\n",
    "for doc in workplace_docs:\n",
    "    content.append(doc[\"content\"])\n",
    "    metadata.append(\n",
    "        {\n",
    "            \"name\": doc[\"name\"],\n",
    "            \"summary\": doc[\"summary\"],\n",
    "            \"rolePermissions\": doc[\"rolePermissions\"],\n",
    "        }\n",
    "    )\n",
    "\n",
    "# text_splitter = CharacterTextSplitter(chunk_size=50, chunk_overlap=0)\n",
    "text_splitter = RecursiveCharacterTextSplitter(\n",
    "    chunk_size=500, chunk_overlap=0, separators=[\" \", \",\", \"\\n\"]\n",
    ")\n",
    "docs = text_splitter.create_documents(content, metadatas=metadata)"
   ]
  },
  {
   "cell_type": "markdown",
   "id": "4264bc1b-23b1-4547-a7f0-670944c3e605",
   "metadata": {},
   "source": [
    "## Index Documents into Elasticsearch using E5\n",
    "\n",
    "Before we begin indexing, ensure you have [downloaded and deployed the E5 model](https://www.elastic.co/guide/en/machine-learning/current/ml-nlp-e5.html) in your deployment and is running on the ML node."
   ]
  },
  {
   "cell_type": "code",
   "execution_count": null,
   "id": "22a2a06c-d305-4464-82cb-24701310525b",
   "metadata": {},
   "outputs": [],
   "source": [
    "db = ElasticsearchStore(\n",
    "    es_cloud_id=ELASTIC_CLOUD_ID,\n",
    "    es_api_key=ELASTIC_API_KEY,\n",
    "    index_name=ELASTIC_INDEX_NAME,\n",
    "    query_field=\"text_field\",\n",
    "    vector_query_field=\"vector_query_field.predicted_value\",\n",
    "    strategy=ElasticsearchStore.ApproxRetrievalStrategy(\n",
    "        query_model_id=ELASTIC_DEPLOYED_MODEL_ID\n",
    "    ),\n",
    ")\n",
    "\n",
    "db"
   ]
  },
  {
   "cell_type": "markdown",
   "id": "f9fdba68-1190-45aa-b303-68c6be482972",
   "metadata": {},
   "source": [
    "### Setup Ingest Pipeline"
   ]
  },
  {
   "cell_type": "code",
   "execution_count": null,
   "id": "c8057b4f-d86f-43f9-b47d-7279609ab231",
   "metadata": {},
   "outputs": [],
   "source": [
    "db.client.ingest.put_pipeline(\n",
    "    id=\"multi-lang-pipeline\",\n",
    "    processors=[\n",
    "        {\n",
    "            \"inference\": {\n",
    "                \"model_id\": ELASTIC_DEPLOYED_MODEL_ID,\n",
    "                \"field_map\": {\"query_field\": \"text_field\"},\n",
    "                \"target_field\": \"vector_query_field\",\n",
    "            }\n",
    "        }\n",
    "    ],\n",
    ")"
   ]
  },
  {
   "cell_type": "markdown",
   "id": "0e51d08f-6135-4075-97c2-b2d0445f32b3",
   "metadata": {},
   "source": [
    "### Create an Index"
   ]
  },
  {
   "cell_type": "code",
   "execution_count": null,
   "id": "251dc9b4-9b19-4eb4-bfdb-a57e1b18904d",
   "metadata": {},
   "outputs": [],
   "source": [
    "db.client.indices.create(\n",
    "    index=ELASTIC_INDEX_NAME,\n",
    "    mappings={\n",
    "        \"properties\": {\n",
    "            \"text_field\": {\"type\": \"text\"},\n",
    "            \"vector_query_field\": {\n",
    "                \"properties\": {\n",
    "                    \"predicted_value\": {\n",
    "                        \"type\": \"dense_vector\",\n",
    "                        \"dims\": 384,\n",
    "                        \"index\": True,\n",
    "                        \"similarity\": \"l2_norm\",\n",
    "                    }\n",
    "                }\n",
    "            },\n",
    "        }\n",
    "    },\n",
    "    settings={\"index\": {\"default_pipeline\": \"multi-lang-pipeline\"}},\n",
    ")"
   ]
  },
  {
   "cell_type": "markdown",
   "id": "aef9d1e6-83aa-4665-874b-b8d98eb14356",
   "metadata": {},
   "source": [
    "### Insert documents"
   ]
  },
  {
   "cell_type": "code",
   "execution_count": null,
   "id": "eb1db78e-e40a-4a5c-9d15-75ee2a1d0994",
   "metadata": {},
   "outputs": [],
   "source": [
    "db.from_documents(\n",
    "    docs,\n",
    "    es_cloud_id=ELASTIC_CLOUD_ID,\n",
    "    es_api_key=ELASTIC_API_KEY,\n",
    "    index_name=ELASTIC_INDEX_NAME,\n",
    "    query_field=\"text_field\",\n",
    "    vector_query_field=\"vector_query_field.predicted_value\",\n",
    "    strategy=ElasticsearchStore.ApproxRetrievalStrategy(\n",
    "        query_model_id=ELASTIC_DEPLOYED_MODEL_ID\n",
    "    ),\n",
    ")\n",
    "\n",
    "db"
   ]
  },
  {
   "cell_type": "markdown",
   "id": "35063056-f324-44f3-bc9f-08b3156a1ef6",
   "metadata": {},
   "source": [
    "## Multilingual Search "
   ]
  },
  {
   "cell_type": "code",
   "execution_count": null,
   "id": "550f79e7-3d9f-4371-8c80-fa6f563a48d8",
   "metadata": {},
   "outputs": [],
   "source": [
    "db.similarity_search(\n",
    "    \"हमारी कंपनी की बिक्री संरचना कैसी है?\", k=5\n",
    ")  # Asking in Hindi - How is the sales structure of our company?"
   ]
  },
  {
   "cell_type": "markdown",
   "id": "4c2cc345-2fb6-40b6-9106-b9c97ae7dba7",
   "metadata": {},
   "source": [
    "## Format Docs"
   ]
  },
  {
   "cell_type": "code",
   "execution_count": null,
   "id": "213a5f62-07df-4cbc-9698-0728a7b44c75",
   "metadata": {},
   "outputs": [],
   "source": [
    "def format_docs(docs):\n",
    "    return \"\\n\\n\".join(doc.page_content for doc in docs)"
   ]
  },
  {
   "cell_type": "markdown",
   "id": "906b1864-3080-4b51-be13-e921574b9652",
   "metadata": {},
   "source": [
    "## Create a Chain using Prompt Template + `gemini-pro` model"
   ]
  },
  {
   "cell_type": "code",
   "execution_count": null,
   "id": "1b403d76-bd14-43b6-a192-6c57d5b55382",
   "metadata": {},
   "outputs": [],
   "source": [
    "retriever = db.as_retriever(search_kwargs={\"k\": 5})\n",
    "\n",
    "template = \"\"\"Answer the question based only on the following context. Detect language of question and answer in detail in same language.\\n\n",
    "\n",
    "{context}\n",
    "\n",
    "Question: {question}\n",
    "\"\"\"\n",
    "prompt = ChatPromptTemplate.from_template(template)\n",
    "\n",
    "\n",
    "chain = (\n",
    "    {\"context\": retriever | format_docs, \"question\": RunnablePassthrough()}\n",
    "    | prompt\n",
    "    | ChatGoogleGenerativeAI(model=\"gemini-pro\", temperature=0.2)\n",
    "    | StrOutputParser()\n",
    ")"
   ]
  },
  {
   "cell_type": "code",
   "execution_count": null,
   "id": "fd2f5e38-ddf2-4aac-8fd9-4ad37c25c902",
   "metadata": {},
   "outputs": [],
   "source": [
    "# what are the sales goals for 2023?\n",
    "# When I have to come to the office and why?\n",
    "# How leaves will be calcluated?\n",
    "# मैं कब से ऑफिस जा सकता हूं कब से जा सकता हूं\n",
    "# বিক্রয় কৌশল কি (In begali asking - what are the sales strategy)\n",
    "# explain detailed onboarding steps in hindi\n",
    "# jak funguje kompenzace? Řekni mi v angličtině (In czech asking - how compensation works ? tell me in english)\n",
    "\n",
    "\n",
    "chain.invoke(\"When I have to come to the office and why?\")"
   ]
  }
 ],
 "metadata": {
  "kernelspec": {
   "display_name": "Python 3 (ipykernel)",
   "language": "python",
   "name": "python3"
  },
  "language_info": {
   "codemirror_mode": {
    "name": "ipython",
    "version": 3
   },
   "file_extension": ".py",
   "mimetype": "text/x-python",
   "name": "python",
   "nbconvert_exporter": "python",
   "pygments_lexer": "ipython3",
   "version": "3.12.4"
  }
 },
 "nbformat": 4,
 "nbformat_minor": 5
}
