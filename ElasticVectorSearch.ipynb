{
 "cells": [
  {
   "cell_type": "markdown",
   "id": "123c4ac1-8b71-4afd-98db-e121bf64d700",
   "metadata": {},
   "source": [
    "# ElasticVectorSearch Integrations"
   ]
  },
  {
   "cell_type": "markdown",
   "id": "f656f7b2-6b2f-4123-869c-e170cc7016ba",
   "metadata": {},
   "source": [
    "## Install Packages"
   ]
  },
  {
   "cell_type": "code",
   "execution_count": null,
   "id": "ee409719-924a-442a-8050-da0fe8f9315b",
   "metadata": {},
   "outputs": [],
   "source": [
    "#!pip3 install langchain"
   ]
  },
  {
   "cell_type": "markdown",
   "id": "ab235e30-38df-4614-8f9d-d094debb0791",
   "metadata": {},
   "source": [
    "## Import packages"
   ]
  },
  {
   "cell_type": "code",
   "execution_count": null,
   "id": "0cb03be4-d265-4b6e-8ce0-0abbe87b8e63",
   "metadata": {},
   "outputs": [],
   "source": [
    "from dotenv import load_dotenv\n",
    "from langchain.embeddings import OpenAIEmbeddings\n",
    "from langchain.vectorstores import ElasticVectorSearch\n",
    "from langchain.text_splitter import CharacterTextSplitter\n",
    "from urllib.request import urlopen\n",
    "import os, json\n",
    "\n",
    "load_dotenv()\n",
    "\n",
    "openai_api_key=os.getenv('OPENAI_API_KEY')\n",
    "elastic_cloud_id=os.getenv('ES_CLOUD_ID')\n",
    "elastic_user=os.getenv('ES_USER')\n",
    "elastic_password=os.getenv('ES_PASSWORD')\n",
    "elastic_endpoint=os.getenv('ES_ENDPOINT')\n",
    "elastic_index_name='byte-discuss-elastic-vector-search'\n"
   ]
  },
  {
   "cell_type": "markdown",
   "id": "84725c4c-2366-43da-9ed3-70585993a0c0",
   "metadata": {},
   "source": [
    "## Add documents"
   ]
  },
  {
   "cell_type": "markdown",
   "id": "9b8aca1e-aeee-4224-bfaf-066e2cafe7fb",
   "metadata": {},
   "source": [
    "### Let's download the sample dataset and deserialize the document."
   ]
  },
  {
   "cell_type": "code",
   "execution_count": null,
   "id": "74b25f03-12cd-4136-bb22-f2b00f256216",
   "metadata": {},
   "outputs": [],
   "source": [
    "url = \"https://raw.githubusercontent.com/ashishtiwari1993/langchain-elasticsearch-RAG/main/data.json\"\n",
    "\n",
    "response = urlopen(url)\n",
    "\n",
    "workplace_docs = json.loads(response.read())"
   ]
  },
  {
   "cell_type": "markdown",
   "id": "6d4119ba-5cd3-42d5-9de7-1e21f6e283cf",
   "metadata": {},
   "source": [
    "### Split Documents into Passages"
   ]
  },
  {
   "cell_type": "code",
   "execution_count": null,
   "id": "99d20cee-9530-40d4-bc0b-bb58aafe9dba",
   "metadata": {},
   "outputs": [],
   "source": [
    "metadata = []\n",
    "content = []\n",
    "\n",
    "for doc in workplace_docs:\n",
    "  content.append(doc[\"content\"])\n",
    "  metadata.append({\n",
    "      \"name\": doc[\"name\"],\n",
    "      \"summary\": doc[\"summary\"],\n",
    "      \"rolePermissions\":doc[\"rolePermissions\"]\n",
    "  })\n",
    "\n",
    "text_splitter = CharacterTextSplitter(chunk_size=100, chunk_overlap=0)\n",
    "docs = text_splitter.create_documents(content, metadatas=metadata)"
   ]
  },
  {
   "cell_type": "markdown",
   "id": "29505a64-4f72-408a-b447-6f1508054c73",
   "metadata": {},
   "source": [
    "### Index data into elasticsearch"
   ]
  },
  {
   "cell_type": "code",
   "execution_count": null,
   "id": "0f50a2c0-eaad-4ae2-b596-c0366147eff0",
   "metadata": {},
   "outputs": [],
   "source": [
    "embeddings = OpenAIEmbeddings(openai_api_key=openai_api_key)\n",
    "\n",
    "url = f\"https://{elastic_user}:{elastic_password}@{elastic_endpoint}:9243\"\n",
    "\n",
    "es = ElasticVectorSearch.from_documents(\n",
    "    docs,\n",
    "    elasticsearch_url=url,\n",
    "    index_name=elastic_index_name,\n",
    "    embedding=embeddings\n",
    ")\n",
    "\n",
    "es"
   ]
  },
  {
   "cell_type": "markdown",
   "id": "ce880491-5f0d-4be3-a819-482d4202d1ed",
   "metadata": {},
   "source": [
    "## Show Result"
   ]
  },
  {
   "cell_type": "code",
   "execution_count": null,
   "id": "85fcdef4-7afe-46d4-b117-d2b1ffd83af5",
   "metadata": {},
   "outputs": [],
   "source": [
    "def showResults(output):\n",
    "  print(\"Total results: \", len(output))\n",
    "  for index in range(len(output)):\n",
    "    print(output[index])"
   ]
  },
  {
   "cell_type": "markdown",
   "id": "2cf7ee89-8931-4513-a3fb-bd0df91a8278",
   "metadata": {},
   "source": [
    "## Similarity / Vector Search (KNN Search)"
   ]
  },
  {
   "cell_type": "code",
   "execution_count": null,
   "id": "77056a0b-dc84-4720-b517-fd0afeb25895",
   "metadata": {},
   "outputs": [],
   "source": [
    "query = \"work from home policy\"\n",
    "result = es.similarity_search(query=query)\n",
    "\n",
    "showResults(result)"
   ]
  }
 ],
 "metadata": {
  "kernelspec": {
   "display_name": "Python 3 (ipykernel)",
   "language": "python",
   "name": "python3"
  },
  "language_info": {
   "codemirror_mode": {
    "name": "ipython",
    "version": 3
   },
   "file_extension": ".py",
   "mimetype": "text/x-python",
   "name": "python",
   "nbconvert_exporter": "python",
   "pygments_lexer": "ipython3",
   "version": "3.11.6"
  }
 },
 "nbformat": 4,
 "nbformat_minor": 5
}
