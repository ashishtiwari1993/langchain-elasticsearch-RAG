{
  "nbformat": 4,
  "nbformat_minor": 0,
  "metadata": {
    "colab": {
      "provenance": []
    },
    "kernelspec": {
      "name": "python3",
      "display_name": "Python 3"
    },
    "language_info": {
      "name": "python"
    }
  },
  "cells": [
    {
      "cell_type": "markdown",
      "source": [
        "# Download Dependencies"
      ],
      "metadata": {
        "id": "zXltdxcPB8h2"
      }
    },
    {
      "cell_type": "code",
      "execution_count": null,
      "metadata": {
        "id": "NzHdyAAkG0JT"
      },
      "outputs": [],
      "source": [
        "pip install -qU langchain-text-splitters tiktoken langchain_experimental langchain_openai langchain-elasticsearch"
      ]
    },
    {
      "cell_type": "markdown",
      "source": [
        "# Sample passage - https://en.wikipedia.org/wiki/2024_Summer_Olympics"
      ],
      "metadata": {
        "id": "uz2OS9_PCFKK"
      }
    },
    {
      "cell_type": "code",
      "source": [
        "from google.colab import userdata\n",
        "import os\n",
        "\n",
        "text = \"\"\"Paris 2024 featured the debut of breaking as an Olympic sport, and was the final Olympic Games held during the IOC presidency of Thomas Bach. The 2024 Games were expected to cost €9 billion.\n",
        "The opening ceremony was held outside of a stadium for the first time in modern Olympic history, as athletes were paraded by boat along the Seine. Paris 2024 was the first Olympics in history to reach full gender parity on the field of play, with equal numbers of male and female athletes.\n",
        "The United States topped the medal table for the fourth consecutive Summer Games and 19th time overall, with 40 gold and 126 total medals. China tied with the United States on gold (40), but finished second due to having fewer silvers; the nation won 91 medals overall.\n",
        "This is the first time a gold medal tie among the two most successful nations has occurred in Summer Olympic history. Japan finished third with 20 gold medals and sixth in the overall medal count.\n",
        "Australia finished fourth with 18 gold medals and fifth in the overall medal count.The host nation, France, finished fifth with 16 gold and 64 total medals, and fourth in the overall medal count.\n",
        "Dominica, Saint Lucia, Cape Verde and Albania won their first-ever Olympic medals, the former two both being gold, with Botswana and Guatemala also winning their first-ever gold medals. The Refugee Olympic Team also won their first-ever medal, a bronze in boxing.\n",
        "At the conclusion of the games, despite some controversies throughout relating to politics, logistics and conditions in the Olympic Village, the Games were considered a success by the press, Parisians and observers.\n",
        "The Paris Olympic Games broke all-time records for ticket sales, with the Games selling 9,556,792 tickets (12,132,647 in total for Paris 2024 if you add in the Paralympic Games).\n",
        "In the 2024 Paris Olympics, several new events and formats have been introduced. Formula Kite made its debut, described as the \"Formula One of the Olympics\", featuring high-speed foil racing with separate events for men and women.\n",
        "Kayak cross also debuted, where four athletes race against each other on a course with multiple gates, marking the first head-to-head race in Olympic canoe slalom history.\n",
        "Sport climbing returned with a new format, splitting into bouldering and lead combined events in addition to a speed event. 3x3 basketball, which debuted in Tokyo, was back with finals scheduled for August 5 at Place de La Concorde.\n",
        "Changes in other sports included the introduction of men's participation in artistic swimming, a new women's weight class in boxing, and the addition of a marathon race walk mixed relay in track and field.\n",
        "A TGM Research survey shows that Coca-Cola is globally the most connected brand with the 2024 Olympics, with 23% of people mentioning it. Nike comes in second with 16%, despite not being an official sponsor of the Olympic Games.[197] Belgian beverage company AB InBev became the first Worldwide Olympic Partner during the Games,[198] while two Japanese companies will not renew their sponsorships after 2024; automobile manufacturer Toyota, with the company reportedly unhappy with how the IOC has used its sponsorship money,[199][200] and Panasonic, under continuous management considerations regarding sponsorship, with the company also looking to expand its businesses outside consumer electronics.[201][202]\n",
        "\n",
        "Under an agreement as \"Premium\" sponsor reportedly valued at €150 million ($163 million), French luxury goods conglomerate LVMH has been involved in aspects of the Games, with its brand Louis Vuitton having provided the trunks used to store the Olympic torch and medals, and the outfits and trays for medal presenters.\n",
        "Former IOC marketing head Michael Payne raised concerns that the prominent use of LVMH goods as part of the Olympics (and in particular, the opening ceremony, which also featured the aforementioned items as props, and performers Aya Nakamura and Lady Gaga wearing Dior haute couture) could cause conflicts with other official sponsors, noting that \"the direction of stylish sponsor product placement may not be wrong but needs exceptionally careful management.\n",
        "LVMH got a massive free global ad last night and other partners are all going to be asking, how did that work?\n",
        "\"\"\"\n",
        "\n",
        "def show_chunks(chunks):\n",
        "  i = 0\n",
        "  for c in chunks:\n",
        "    print(str(i)+\" \"+c)\n",
        "    i = i+1"
      ],
      "metadata": {
        "id": "-504FjJymLYg"
      },
      "execution_count": null,
      "outputs": []
    },
    {
      "cell_type": "markdown",
      "source": [
        "# Recursive Character Chunking"
      ],
      "metadata": {
        "id": "b26gN6HqCSYi"
      }
    },
    {
      "cell_type": "code",
      "source": [
        "from langchain_text_splitters import RecursiveCharacterTextSplitter\n",
        "\n",
        "text_splitter = RecursiveCharacterTextSplitter(\n",
        "    chunk_size=100,\n",
        "    chunk_overlap=2,\n",
        "    length_function=len,\n",
        "    is_separator_regex=False,\n",
        ")\n",
        "\n",
        "chunks = text_splitter.split_text(text)\n",
        "show_chunks(chunks)"
      ],
      "metadata": {
        "id": "NoepFvDkH9WU"
      },
      "execution_count": null,
      "outputs": []
    },
    {
      "cell_type": "markdown",
      "source": [
        "# Token Based Chunking"
      ],
      "metadata": {
        "id": "RQ8YO3QTCYMq"
      }
    },
    {
      "cell_type": "code",
      "source": [
        "from langchain_text_splitters import RecursiveCharacterTextSplitter\n",
        "\n",
        "text_splitter = RecursiveCharacterTextSplitter.from_tiktoken_encoder(\n",
        "    model_name=\"gpt-4\",\n",
        "    chunk_size=100,\n",
        "    chunk_overlap=0,\n",
        ")\n",
        "\n",
        "chunks = text_splitter.split_text(text)\n",
        "show_chunks(chunks)"
      ],
      "metadata": {
        "id": "L9mCTvVdiEMw"
      },
      "execution_count": null,
      "outputs": []
    },
    {
      "cell_type": "markdown",
      "source": [
        "# Semantic Chunking"
      ],
      "metadata": {
        "id": "j1eJbVjjCh49"
      }
    },
    {
      "cell_type": "code",
      "source": [
        "from langchain_experimental.text_splitter import SemanticChunker\n",
        "from langchain_openai.embeddings import OpenAIEmbeddings\n",
        "\n",
        "os.environ[\"OPENAI_API_KEY\"] = userdata.get('OPENAI_API_KEY')\n",
        "\n",
        "text_splitter = SemanticChunker(OpenAIEmbeddings(), breakpoint_threshold_type=\"interquartile\")\n",
        "\n",
        "chunks = text_splitter.split_text(text)\n",
        "show_chunks(chunks)"
      ],
      "metadata": {
        "id": "UPYwCzutnjxZ"
      },
      "execution_count": null,
      "outputs": []
    },
    {
      "cell_type": "markdown",
      "source": [
        "# Push into Elasticsearch"
      ],
      "metadata": {
        "id": "wIZgbxvkCmtm"
      }
    },
    {
      "cell_type": "code",
      "source": [
        "from langchain_text_splitters import RecursiveCharacterTextSplitter\n",
        "from langchain.vectorstores import ElasticsearchStore\n",
        "\n",
        "text_splitter = RecursiveCharacterTextSplitter(\n",
        "    chunk_size=300,\n",
        "    chunk_overlap=50,\n",
        "    length_function=len,\n",
        "    is_separator_regex=False,\n",
        ")\n",
        "\n",
        "chunks = text_splitter.create_documents([text])\n",
        "\n",
        "es = ElasticsearchStore(\n",
        "    es_cloud_id=userdata.get('ES_CLOUD_ID'),\n",
        "    es_api_key=userdata.get('ES_API_KEY'),\n",
        "    index_name=\"olympic-2024\",\n",
        "    query_field=\"text\",\n",
        "    vector_query_field=\"vectors\",\n",
        "    strategy=ElasticsearchStore.SparseVectorRetrievalStrategy(\n",
        "        model_id=\".elser_model_2_linux-x86_64\"\n",
        "    ),\n",
        ")\n",
        "\n",
        "es.client.ingest.put_pipeline(\n",
        "    id=\"elser-ingest\",\n",
        "    processors=[\n",
        "        {\n",
        "            \"inference\": {\n",
        "                \"model_id\": \".elser_model_2_linux-x86_64\",\n",
        "                \"input_output\":[\n",
        "                    {\n",
        "                        \"input_field\": \"text\",\n",
        "                        \"output_field\": \"vectors\"\n",
        "                    }\n",
        "                ]\n",
        "            }\n",
        "        }\n",
        "    ],\n",
        ")\n",
        "\n",
        "es.client.indices.create(\n",
        "    index=\"olympic-2024\",\n",
        "    mappings={\n",
        "        \"properties\": {\n",
        "            \"text\": {\"type\": \"text\"},\n",
        "            \"vectors\":{\"type\":\"sparse_vector\"},\n",
        "        }\n",
        "    },\n",
        "    settings={\"index\": {\"default_pipeline\": \"elser-ingest\"}},\n",
        ")\n",
        "\n",
        "es.from_documents(\n",
        "    chunks,\n",
        "    es_cloud_id=userdata.get('ES_CLOUD_ID'),\n",
        "    es_api_key=userdata.get('ES_API_KEY'),\n",
        "    index_name=\"olympic-2024\",\n",
        "    query_field=\"text\",\n",
        "    vector_query_field=\"vectors\",\n",
        "    strategy=ElasticsearchStore.ApproxRetrievalStrategy(\n",
        "        query_model_id=\".elser_model_2_linux-x86_64\"\n",
        "    ),\n",
        ")\n",
        "\n",
        "es"
      ],
      "metadata": {
        "id": "qbb15skIvbwe"
      },
      "execution_count": null,
      "outputs": []
    }
  ]
}