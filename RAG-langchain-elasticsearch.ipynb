{
 "cells": [
  {
   "cell_type": "markdown",
   "id": "123c4ac1-8b71-4afd-98db-e121bf64d700",
   "metadata": {},
   "source": [
    "# RAG"
   ]
  },
  {
   "cell_type": "markdown",
   "id": "f656f7b2-6b2f-4123-869c-e170cc7016ba",
   "metadata": {},
   "source": [
    "## Install Packages"
   ]
  },
  {
   "cell_type": "code",
   "execution_count": null,
   "id": "ee409719-924a-442a-8050-da0fe8f9315b",
   "metadata": {},
   "outputs": [],
   "source": [
    "#!pip3 install langchain"
   ]
  },
  {
   "cell_type": "markdown",
   "id": "ab235e30-38df-4614-8f9d-d094debb0791",
   "metadata": {},
   "source": [
    "## Import packages"
   ]
  },
  {
   "cell_type": "code",
   "execution_count": null,
   "id": "0cb03be4-d265-4b6e-8ce0-0abbe87b8e63",
   "metadata": {},
   "outputs": [],
   "source": [
    "from dotenv import load_dotenv\n",
    "from langchain.embeddings import OpenAIEmbeddings\n",
    "from langchain.vectorstores import ElasticsearchStore\n",
    "from langchain.text_splitter import CharacterTextSplitter\n",
    "from langchain.prompts import ChatPromptTemplate\n",
    "from langchain.prompts import PromptTemplate\n",
    "from langchain.chat_models import ChatOpenAI\n",
    "from langchain.schema.output_parser import StrOutputParser\n",
    "from langchain.schema.runnable import RunnablePassthrough\n",
    "from langchain.schema.runnable import RunnableLambda\n",
    "from langchain.schema import HumanMessage\n",
    "from urllib.request import urlopen\n",
    "import os, json\n",
    "\n",
    "load_dotenv()\n",
    "\n",
    "elastic_cloud_id=os.getenv('ES_CLOUD_ID')\n",
    "elastic_user=os.getenv('ES_USER')\n",
    "elastic_password=os.getenv('ES_PASSWORD')\n",
    "elastic_endpoint=os.getenv('ES_ENDPOINT')\n",
    "elastic_index_name='byte-discuss-langchain-rag'\n"
   ]
  },
  {
   "cell_type": "markdown",
   "id": "84725c4c-2366-43da-9ed3-70585993a0c0",
   "metadata": {},
   "source": [
    "## Add documents"
   ]
  },
  {
   "cell_type": "markdown",
   "id": "9b8aca1e-aeee-4224-bfaf-066e2cafe7fb",
   "metadata": {},
   "source": [
    "### Let's download the sample dataset and deserialize the document."
   ]
  },
  {
   "cell_type": "code",
   "execution_count": null,
   "id": "74b25f03-12cd-4136-bb22-f2b00f256216",
   "metadata": {},
   "outputs": [],
   "source": [
    "url = \"https://raw.githubusercontent.com/elastic/elasticsearch-labs/main/example-apps/workplace-search/data/data.json\"\n",
    "\n",
    "response = urlopen(url)\n",
    "\n",
    "workplace_docs = json.loads(response.read())"
   ]
  },
  {
   "cell_type": "markdown",
   "id": "6d4119ba-5cd3-42d5-9de7-1e21f6e283cf",
   "metadata": {},
   "source": [
    "### Split Documents into Passages"
   ]
  },
  {
   "cell_type": "code",
   "execution_count": null,
   "id": "99d20cee-9530-40d4-bc0b-bb58aafe9dba",
   "metadata": {},
   "outputs": [],
   "source": [
    "metadata = []\n",
    "content = []\n",
    "\n",
    "for doc in workplace_docs:\n",
    "  content.append(doc[\"content\"])\n",
    "  metadata.append({\n",
    "      \"name\": doc[\"name\"],\n",
    "      \"summary\": doc[\"summary\"],\n",
    "      \"rolePermissions\":doc[\"rolePermissions\"]\n",
    "  })\n",
    "\n",
    "text_splitter = CharacterTextSplitter(chunk_size=50, chunk_overlap=0)\n",
    "docs = text_splitter.create_documents(content, metadatas=metadata)"
   ]
  },
  {
   "cell_type": "markdown",
   "id": "36db7277-302b-4831-bd9e-17da8933a62b",
   "metadata": {},
   "source": [
    "## Index Documents using ELSER - SparseVectorRetrievalStrategy()"
   ]
  },
  {
   "cell_type": "code",
   "execution_count": null,
   "id": "76e237f8-1a0e-4d9f-afc1-5e7c7452928b",
   "metadata": {},
   "outputs": [],
   "source": [
    "\n",
    "es = ElasticsearchStore.from_documents(\n",
    "    docs,\n",
    "    es_cloud_id=elastic_cloud_id,\n",
    "    es_user=elastic_user,\n",
    "    es_password=elastic_password,\n",
    "    index_name=elastic_index_name,\n",
    "    strategy=ElasticsearchStore.SparseVectorRetrievalStrategy()\n",
    ")\n",
    "\n",
    "es"
   ]
  },
  {
   "cell_type": "markdown",
   "id": "ce880491-5f0d-4be3-a819-482d4202d1ed",
   "metadata": {},
   "source": [
    "## Show Result"
   ]
  },
  {
   "cell_type": "code",
   "execution_count": null,
   "id": "85fcdef4-7afe-46d4-b117-d2b1ffd83af5",
   "metadata": {},
   "outputs": [],
   "source": [
    "def showResults(output):\n",
    "  print(\"Total results: \", len(output))\n",
    "  for index in range(len(output)):\n",
    "    print(output[index])"
   ]
  },
  {
   "cell_type": "markdown",
   "id": "257db607-a7c6-4422-836a-522e6d28c09b",
   "metadata": {},
   "source": [
    "## Search"
   ]
  },
  {
   "cell_type": "code",
   "execution_count": null,
   "id": "0a4bf669-ebb0-4a7b-ac95-e4bfbace91f1",
   "metadata": {},
   "outputs": [],
   "source": [
    "r = es.similarity_search(\"what is the goal for 2024\")\n",
    "showResults(r)"
   ]
  },
  {
   "cell_type": "markdown",
   "id": "26dcec99-c367-41cd-8a97-e374ced54bb6",
   "metadata": {},
   "source": [
    "## RAG with Elasticsearch - Method 1 (Using Retriever)"
   ]
  },
  {
   "cell_type": "code",
   "execution_count": null,
   "id": "67f7f1d7-5e0e-4815-a032-250cbe53c574",
   "metadata": {},
   "outputs": [],
   "source": [
    "retriever = es.as_retriever()\n",
    "\n",
    "template = \"\"\"Answer the question based only on the following context:\n",
    "{context}\n",
    "\n",
    "Question: {question}\n",
    "\"\"\"\n",
    "prompt = ChatPromptTemplate.from_template(template)\n",
    "\n",
    "chain = (\n",
    "    {\"context\": retriever, \"question\": RunnablePassthrough()} \n",
    "    | prompt \n",
    "    | ChatOpenAI() \n",
    "    | StrOutputParser()\n",
    ")\n",
    "\n",
    "chain.invoke(\"vacation policy\")"
   ]
  },
  {
   "cell_type": "markdown",
   "id": "aa841af2-d997-4b99-a5aa-0f02882d3502",
   "metadata": {},
   "source": [
    "## RAG with Elasticsearch - Method 2 (Without Retriever)"
   ]
  },
  {
   "cell_type": "markdown",
   "id": "ea16faf7-02e7-48fd-a3df-eeff4761d6f4",
   "metadata": {},
   "source": [
    "### Add Context"
   ]
  },
  {
   "cell_type": "code",
   "execution_count": null,
   "id": "75b87e11-c587-4395-8721-20d232f4bb37",
   "metadata": {},
   "outputs": [],
   "source": [
    "def add_context(question: str):\n",
    "    r = es.similarity_search(question)\n",
    "    \n",
    "    context = \"\\n\".join(x.page_content for x in r)\n",
    "    \n",
    "    return context"
   ]
  },
  {
   "cell_type": "markdown",
   "id": "30b59124-cba8-4c7f-bc8a-09b32e6a5567",
   "metadata": {},
   "source": [
    "### Chain"
   ]
  },
  {
   "cell_type": "code",
   "execution_count": null,
   "id": "a0813c1e-db89-423c-a718-08efc17e85ef",
   "metadata": {},
   "outputs": [],
   "source": [
    "\n",
    "template = \"\"\"Answer the question based only on the following context:\n",
    "{context}\n",
    "\n",
    "Question: {question}\n",
    "\"\"\"\n",
    "\n",
    "prompt = ChatPromptTemplate.from_template(template)\n",
    "\n",
    "chain = LLMChain(llm=ChatOpenAI(), prompt=prompt)\n",
    "\n",
    "chain = (\n",
    "    {\"context\": RunnableLambda(add_context), \"question\": RunnablePassthrough()}\n",
    "    | prompt\n",
    "    | ChatOpenAI()\n",
    "    | StrOutputParser()\n",
    ")\n",
    "\n",
    "chain.invoke(\"canada employees guidelines\")"
   ]
  },
  {
   "cell_type": "markdown",
   "id": "a6a9a0db-d286-461e-963b-0b46284dc527",
   "metadata": {},
   "source": [
    "## Compare with RAG and without RAG"
   ]
  },
  {
   "cell_type": "code",
   "execution_count": null,
   "id": "d4c74584-5d84-4af2-978b-6b2509d7a69c",
   "metadata": {},
   "outputs": [],
   "source": [
    "q = input(\"Ask Question: \")\n",
    "\n",
    "## Question to OpenAI\n",
    "\n",
    "chat = ChatOpenAI()\n",
    "\n",
    "messages = [\n",
    "    HumanMessage(\n",
    "        content=q\n",
    "    )\n",
    "]\n",
    "\n",
    "gpt_res = chat(messages)\n",
    "\n",
    "# Question with RAG\n",
    "\n",
    "gpt_rag_res = chain.invoke(q)\n",
    "\n",
    "\n",
    "# Responses\n",
    "\n",
    "s = f\"\"\"\n",
    "ChatGPT Response:\n",
    "\n",
    "{gpt_res}\n",
    "\n",
    "ChatGPT with RAG Response:\n",
    "\n",
    "{gpt_rag_res}\n",
    "\"\"\"\n",
    "\n",
    "print(s)"
   ]
  }
 ],
 "metadata": {
  "kernelspec": {
   "display_name": "Python 3 (ipykernel)",
   "language": "python",
   "name": "python3"
  },
  "language_info": {
   "codemirror_mode": {
    "name": "ipython",
    "version": 3
   },
   "file_extension": ".py",
   "mimetype": "text/x-python",
   "name": "python",
   "nbconvert_exporter": "python",
   "pygments_lexer": "ipython3",
   "version": "3.11.6"
  }
 },
 "nbformat": 4,
 "nbformat_minor": 5
}
